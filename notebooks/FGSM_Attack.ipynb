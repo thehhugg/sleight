{
 "cells": [
  {
   "cell_type": "markdown",
   "metadata": {},
   "source": [
    "# FGSM attack demo on MNIST"
   ]
  },
  {
   "cell_type": "code",
   "execution_count": null,
   "metadata": {},
   "outputs": [],
   "source": [
    "import tensorflow as tf\n",
    "import numpy as np\n",
    "import matplotlib.pyplot as plt\n",
    "\n",
    "# Load MNIST dataset\n",
    "mnist = tf.keras.datasets.mnist\n",
    "(x_train, y_train), (x_test, y_test) = mnist.load_data()\n",
    "x_train, x_test = x_train / 255.0, x_test / 255.0"
   ]
  },
  {
   "cell_type": "code",
   "execution_count": null,
   "metadata": {},
   "outputs": [],
   "source": [
    "# Add channel dimension (for compatibility with Keras)\n",
    "x_train = x_train[..., np.newaxis].astype(\"float32\")\n",
    "x_test = x_test[..., np.newaxis].astype(\"float32\")"
   ]
  },
  {
   "cell_type": "code",
   "execution_count": null,
   "metadata": {},
   "outputs": [],
   "source": [
    "# Create CNN model\n",
    "model = tf.keras.models.Sequential([\n",
    "    tf.keras.layers.Conv2D(32, kernel_size=(3, 3), activation='relu', input_shape=(28, 28, 1)),\n",
    "    tf.keras.layers.MaxPooling2D(pool_size=(2, 2)),\n",
    "    tf.keras.layers.Flatten(),\n",
    "    tf.keras.layers.Dense(128, activation='relu'),\n",
    "    tf.keras.layers.Dense(10, activation='softmax')\n",
    "])\n",
    "\n",
    "model.compile(optimizer='adam',\n",
    "              loss=tf.keras.losses.SparseCategoricalCrossentropy(),\n",
    "              metrics=['accuracy'])"
   ]
  },
  {
   "cell_type": "code",
   "execution_count": null,
   "metadata": {},
   "outputs": [],
   "source": [
    "# Train the model on MNIST\n",
    "model.fit(x_train, y_train, epochs=3, validation_data=(x_test, y_test))"
   ]
  },
  {
   "cell_type": "code",
   "execution_count": null,
   "metadata": {},
   "outputs": [],
   "source": [
    "# Evaluate model's performance on clean data\n",
    "test_loss, test_acc = model.evaluate(x_test, y_test)\n",
    "print(f\"Test accuracy on clean data: {test_acc * 100:.2f}%\")"
   ]
  },
  {
   "cell_type": "code",
   "execution_count": null,
   "metadata": {},
   "outputs": [],
   "source": [
    "# Define FGSM attack\n",
    "def fgsm_attack(model, image, label, epsilon):\n",
    "    # Record the gradients with respect to the input image\n",
    "    with tf.GradientTape() as tape:\n",
    "        tape.watch(image)\n",
    "        prediction = model(image)\n",
    "        loss = tf.keras.losses.sparse_categorical_crossentropy(label, prediction)\n",
    "    \n",
    "    # Get the gradients of the loss w.r.t the image\n",
    "    gradient = tape.gradient(loss, image)\n",
    "    \n",
    "    # Get the sign of the gradients to perturb the image\n",
    "    signed_grad = tf.sign(gradient)\n",
    "    \n",
    "    # Create the adversarial image by adding the perturbation\n",
    "    adversarial_image = image + epsilon * signed_grad\n",
    "    adversarial_image = tf.clip_by_value(adversarial_image, 0, 1)\n",
    "    \n",
    "    return adversarial_image"
   ]
  },
  {
   "cell_type": "code",
   "execution_count": null,
   "metadata": {},
   "outputs": [],
   "source": [
    "# Test FGSM attack\n",
    "# Pick test image and label\n",
    "image = x_test[0:1]\n",
    "label = y_test[0:1]\n",
    "\n",
    "# Set perturbation factor\n",
    "epsilon = 0.1\n",
    "\n",
    "# Generate adversarial example\n",
    "adv_image = fgsm_attack(model, image, label, epsilon)"
   ]
  },
  {
   "cell_type": "code",
   "execution_count": null,
   "metadata": {},
   "outputs": [],
   "source": [
    "# Visualize original and adversarial images\n",
    "plt.figure(figsize=(10, 4))\n",
    "\n",
    "# Original image\n",
    "plt.subplot(1, 2, 1)\n",
    "plt.title(\"Original Image\")\n",
    "plt.imshow(image[0, :, :, 0], cmap='gray')\n",
    "plt.axis('off')\n",
    "\n",
    "# Adversarial image\n",
    "plt.subplot(1, 2, 2)\n",
    "plt.title(f\"Adversarial Image (ε={epsilon})\")\n",
    "plt.imshow(adv_image[0, :, :, 0], cmap='gray')\n",
    "plt.axis('off')\n",
    "\n",
    "plt.show()"
   ]
  },
  {
   "cell_type": "code",
   "execution_count": null,
   "metadata": {},
   "outputs": [],
   "source": [
    "# Evaluate the model's prediction on adversarial image\n",
    "adv_prediction = model.predict(adv_image)\n",
    "print(f\"Model's prediction on adversarial image: {np.argmax(adv_prediction)}\")"
   ]
  }
 ],
 "metadata": {
  "kernelspec": {
   "display_name": "sleight",
   "language": "python",
   "name": "python3"
  },
  "language_info": {
   "codemirror_mode": {
    "name": "ipython",
    "version": 3
   },
   "file_extension": ".py",
   "mimetype": "text/x-python",
   "name": "python",
   "nbconvert_exporter": "python",
   "pygments_lexer": "ipython3",
   "version": "3.12.4"
  }
 },
 "nbformat": 4,
 "nbformat_minor": 2
}
